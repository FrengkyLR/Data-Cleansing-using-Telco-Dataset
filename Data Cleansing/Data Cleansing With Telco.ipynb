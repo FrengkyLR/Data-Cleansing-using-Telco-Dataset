{
 "cells": [
  {
   "cell_type": "markdown",
   "id": "902dffd3",
   "metadata": {},
   "source": [
    "# Introduction\n",
    "DQLab Telco merupakan perusahaan Telco yang sudah mempunyai banyak cabang tersebar dimana-mana. Sejak berdiri pada tahun 2019, DQLab Telco konsisten untuk memperhatikan customer experience-nya sehingga tidak akan ditinggalkan pelanggan. Walaupun baru berumur 1 tahun lebih sedikit, DQLab Telco sudah mempunyai banyak pelanggan yang beralih langganan ke kompetitor. Pihak management ingin mengurangi jumlah pelanggan yang beralih (churn) dengan menggunakan machine learning. Oleh karena itu, tim Data Scientist diminta untuk mempersiapkan data sekaligus membuat model prediksi yang tepat untuk menentukan pelanggan akan berhenti berlangganan (churn) atau tidak.\n",
    "\n",
    "Data Cleansing merupakan proses yang sangat penting yang harus dilalui sebelum melalukan pengolahan sebuah data lebih jauh lagi. Data Cleansing bertujuan untuk membersihkan data-data kotor dengan tujuan meningkatkan kualitas data yang nantinya  digunakan untuk membuat sebuah permodelan bisnis sehingga melalui data cleansing diharapkan data dapat membantu memberikan keputusan bisnis yang lebih baik, dibawah ini merupakan langkah-langkah yang akan dilalui untuk mengoptimalkan data pada pengerjaan project ini.\n",
    "1.\tMencari ID pelanggan (Nomor telepon) yang valid\n",
    "2.\tMengatasi data-data yang masih kosong (Missing Values)\n",
    "3.\tMengatasi Nilai-Nilai Pencilan (Outlier) dari setiap Variable\n",
    "4.\tMenstandardisasi Nilai dari Variable\n"
   ]
  },
  {
   "cell_type": "markdown",
   "id": "6777eae1",
   "metadata": {},
   "source": [
    "# 1.Validasi Data\n",
    "Pada proses ini digunakan untuk memvalidasi data yang benar-benar diperlukan untuk dilakukan proses data cleansing"
   ]
  },
  {
   "cell_type": "code",
   "execution_count": 11,
   "id": "a3e22779",
   "metadata": {},
   "outputs": [
    {
     "name": "stdout",
     "output_type": "stream",
     "text": [
      "Hasil jumlah ID Customer yang terfilter adalah 7006\n"
     ]
    }
   ],
   "source": [
    " import pandas as pd\n",
    "df_load = pd.read_csv('dqlab_telco.csv')\n",
    "\n",
    "df_load['valid_id']=df_load['customerID'].astype(str).str.match(r'(45\\d{9,10})')\n",
    "df_load= (df_load[df_load['valid_id']== True]).drop('valid_id', axis=1)\n",
    "print('Hasil jumlah ID Customer yang terfilter adalah', df_load['customerID'].count())"
   ]
  },
  {
   "cell_type": "code",
   "execution_count": 12,
   "id": "962a872e",
   "metadata": {},
   "outputs": [
    {
     "name": "stdout",
     "output_type": "stream",
     "text": [
      "Hasil jumlah ID Customer yang sudah dihilangkan duplikasinya (distinct) adalah 6993\n"
     ]
    }
   ],
   "source": [
    "#1.b Menfilter Duplikasi Data\n",
    "#import pandas as pd\n",
    "df_load = pd.read_csv('dqlab_telco.csv')\n",
    "df_load['valid_id'] = df_load['customerID'].astype(str).str.match(r'(45\\d{9,10})')\n",
    "df_load = (df_load[df_load['valid_id'] == True]).drop('valid_id', axis = 1)\n",
    "\n",
    "# Drop Duplicate Rows\n",
    "df_load.drop_duplicates()\n",
    "# Drop duplicate ID sorted by Periode\n",
    "df_load = df_load.sort_values('UpdatedAt', ascending=False).drop_duplicates(['customerID'])\n",
    "print('Hasil jumlah ID Customer yang sudah dihilangkan duplikasinya (distinct) adalah',df_load['customerID'].count())"
   ]
  },
  {
   "cell_type": "markdown",
   "id": "a833f600",
   "metadata": {},
   "source": [
    "**Conclusion**\n",
    "\n",
    "Validitas dari ID Number pelanggan sangat diperlukan untuk memastikan bahwa data yang kita ambil sudah benar.Berdasarkan hasil tersebut, terdapat perbedaan jumlah nomor ID dari data pertama kali di load sampai dengan hasil akhir. Jumlah row data ketika pertama kali di load ada sebanyak 7113 rows dan 22 columns dengan 7017 jumlah ID yang unique.Kemudian setelah di cek validitas dari ID pelanggan, maka tersisa 6993 rows data"
   ]
  },
  {
   "cell_type": "markdown",
   "id": "374c1f56",
   "metadata": {},
   "source": [
    "# 2.Mengatasi Missing Value\n",
    "pertama dilakukan pengecekan apakah terdapat missing value disetiap kolom, jika terdapat missing value makan akan dilakukan penghapusan data yang tidak diperlukan kemudian dilakukan proses imputasi untuk menggantikan missing value dengan nilai median karena pada data yang diimputasi memiliki outlier."
   ]
  },
  {
   "cell_type": "code",
   "execution_count": 14,
   "id": "cbee1562",
   "metadata": {},
   "outputs": [
    {
     "name": "stdout",
     "output_type": "stream",
     "text": [
      "Total missing values data dari kolom Churn 43\n",
      "Total Rows dan kolom Data setelah dihapus data Missing Values adalah (6950, 22)\n"
     ]
    }
   ],
   "source": [
    "# Cek nilai hilang dan hapus\n",
    "import pandas as pd\n",
    "df_load = pd.read_csv('dqlab_telco.csv')\n",
    "\n",
    "df_load['valid_id'] = df_load['customerID'].astype(str).str.match(r'(45\\d{9,10})')\n",
    "df_load = (df_load[df_load['valid_id'] == True]).drop('valid_id', axis = 1)\n",
    "df_load.drop_duplicates()\n",
    "df_load = df_load.sort_values('UpdatedAt', ascending=False).drop_duplicates(['customerID'])\n",
    "\n",
    "# Dropping all Rows with spesific column (churn)\n",
    "print('Total missing values data dari kolom Churn', df_load['Churn'].isnull().sum())\n",
    "df_load.dropna(subset=['Churn'], inplace=True)\n",
    "print('Total Rows dan kolom Data setelah dihapus data Missing Values adalah', df_load.shape)"
   ]
  },
  {
   "cell_type": "code",
   "execution_count": 15,
   "id": "a686400f",
   "metadata": {},
   "outputs": [
    {
     "name": "stdout",
     "output_type": "stream",
     "text": [
      "Status Missing Values : True\n",
      "\n",
      "Jumlah Missing Values masing-masing kolom, adalah:\n",
      "tenure              99\n",
      "MonthlyCharges      26\n",
      "TotalCharges        15\n",
      "UpdatedAt            0\n",
      "DeviceProtection     0\n",
      "PaymentMethod        0\n",
      "PaperlessBilling     0\n",
      "Contract             0\n",
      "StreamingMovies      0\n",
      "StreamingTV          0\n",
      "TechSupport          0\n",
      "OnlineBackup         0\n",
      "customerID           0\n",
      "OnlineSecurity       0\n",
      "InternetService      0\n",
      "MultipleLines        0\n",
      "PhoneService         0\n",
      "Dependents           0\n",
      "Partner              0\n",
      "SeniorCitizen        0\n",
      "gender               0\n",
      "Churn                0\n",
      "dtype: int64\n",
      "\n",
      "Jumlah Missing Values setelah di imputer datanya,adalah:\n",
      "UpdatedAt           0\n",
      "customerID          0\n",
      "TotalCharges        0\n",
      "MonthlyCharges      0\n",
      "PaymentMethod       0\n",
      "PaperlessBilling    0\n",
      "Contract            0\n",
      "StreamingMovies     0\n",
      "StreamingTV         0\n",
      "TechSupport         0\n",
      "DeviceProtection    0\n",
      "OnlineBackup        0\n",
      "OnlineSecurity      0\n",
      "InternetService     0\n",
      "MultipleLines       0\n",
      "PhoneService        0\n",
      "tenure              0\n",
      "Dependents          0\n",
      "Partner             0\n",
      "SeniorCitizen       0\n",
      "gender              0\n",
      "Churn               0\n",
      "dtype: int64\n"
     ]
    }
   ],
   "source": [
    "#2.b Mengganti nilai yang hilang\n",
    "import pandas as pd\n",
    "df_load = pd.read_csv('dqlab_telco.csv')\n",
    "\n",
    "df_load['valid_id'] = df_load['customerID'].astype(str).str.match(r'(45\\d{9,10})')\n",
    "df_load = (df_load[df_load['valid_id'] == True]).drop('valid_id', axis = 1)\n",
    "df_load.drop_duplicates()\n",
    "df_load = df_load.sort_values('UpdatedAt', ascending=False).drop_duplicates(['customerID'])\n",
    "df_load.dropna(subset=['Churn'],inplace=True)\n",
    "\n",
    "print('Status Missing Values :',df_load.isnull().values.any())\n",
    "print('\\nJumlah Missing Values masing-masing kolom, adalah:')\n",
    "print(df_load.isnull().sum().sort_values(ascending=False))\n",
    "\n",
    "df_load['tenure'].fillna(11, inplace=True)\n",
    "\n",
    "#Loop\n",
    "for col_name in list(df_load.select_dtypes(include=['int64','float64']).columns.drop(['tenure'])):\n",
    "\tdf_load[col_name].fillna(df_load[col_name].median(), inplace=True)\n",
    "#Handling missing values num vars (except Tenure)\n",
    "print('\\nJumlah Missing Values setelah di imputer datanya,adalah:')\n",
    "print(df_load.isnull().sum().sort_values(ascending=False))\n",
    "\n"
   ]
  },
  {
   "cell_type": "markdown",
   "id": "f4286e2d",
   "metadata": {},
   "source": [
    "**Conclusion**\n",
    "Setelah kita analisis lebih lanjut, ternyata masih ada missing values dari data yang kita sudah validkan \n",
    "Id Number pelanggannya. Missing values terdapat pada kolom Churn, tenure, MonthlyCharges & TotalCharges. \n",
    "Setelah kita tangani dengan cara penghapusan rows dan pengisian rows dengan nilai tertentu, terbukti sudah tidak ada \n",
    "missing values lagi pada data, terbukti dari jumlah missing values masing-masing variable yang bernilai 0. \n",
    "#elanjutnya kita akan melakukan penanganan pencilan (outlier)\n",
    "\n"
   ]
  },
  {
   "cell_type": "markdown",
   "id": "7aff49f8",
   "metadata": {},
   "source": [
    "# 3. Mengatasi Outlier\n",
    "Pengecekan outlier dapat dilakukan dengan membuat visualisasi data menggunakan boxplot dimana hasil visualisasi akan dapat dengan mudah untuk menemukan outlier yang terdapat diluar jangkauan quantile 1 dan quantile 3."
   ]
  },
  {
   "cell_type": "code",
   "execution_count": 17,
   "id": "227aed39",
   "metadata": {},
   "outputs": [
    {
     "name": "stdout",
     "output_type": "stream",
     "text": [
      "\n",
      "Persebaran data sebelum ditangani Outlier: \n",
      "            tenure  MonthlyCharges  TotalCharges\n",
      "count  6950.000000     6950.000000   6950.000000\n",
      "mean     32.477266       65.783741   2305.083460\n",
      "std      25.188910       50.457871   2578.651143\n",
      "min       0.000000        0.000000     19.000000\n",
      "25%       9.000000       36.462500    406.975000\n",
      "50%      29.000000       70.450000   1400.850000\n",
      "75%      55.000000       89.850000   3799.837500\n",
      "max     500.000000     2311.000000  80000.000000\n"
     ]
    },
    {
     "data": {
      "image/png": "[encoded data removed]",
      "text/plain": [
       "<Figure size 432x288 with 1 Axes>"
      ]
     },
     "metadata": {
      "needs_background": "light"
     },
     "output_type": "display_data"
    },
    {
     "data": {
      "image/png": "[encoded data removed]",
      "text/plain": [
       "<Figure size 432x288 with 1 Axes>"
      ]
     },
     "metadata": {
      "needs_background": "light"
     },
     "output_type": "display_data"
    },
    {
     "data": {
      "image/png": "[encoded data removed]",
      "text/plain": [
       "<Figure size 432x288 with 1 Axes>"
      ]
     },
     "metadata": {
      "needs_background": "light"
     },
     "output_type": "display_data"
    }
   ],
   "source": [
    "import pandas as pd\n",
    "df_load = pd.read_csv('dqlab_telco.csv')\n",
    "\n",
    "df_load['valid_id'] = df_load['customerID'].astype(str).str.match(r'(45\\d{9,10})')\n",
    "df_load = (df_load[df_load['valid_id'] == True]).drop('valid_id', axis = 1)\n",
    "df_load.drop_duplicates()\n",
    "df_load = df_load.sort_values('UpdatedAt', ascending=False).drop_duplicates(['customerID'])\n",
    "df_load.dropna(subset=['Churn'],inplace=True)\n",
    "\n",
    "df_load['tenure'].fillna(11, inplace=True)\n",
    "for col_name in list(['MonthlyCharges','TotalCharges']):\n",
    "    median = df_load[col_name].median()\n",
    "    df_load[col_name].fillna(median, inplace=True)\n",
    "\n",
    "print('\\nPersebaran data sebelum ditangani Outlier: ')\n",
    "print(df_load[['tenure','MonthlyCharges','TotalCharges']].describe())\n",
    "\n",
    "# Creating Box Plot\n",
    "import matplotlib.pyplot as plt\n",
    "import seaborn as sns\n",
    "\n",
    "# Misal untuk kolom tenure\n",
    "plt.figure()\n",
    "sns.boxplot(x=df_load['tenure'])\n",
    "plt.show()\n",
    "# dan seterusnya untuk kedua kolom yang tersisa secara berurut\n",
    "plt.figure()\n",
    "sns.boxplot(x=df_load['MonthlyCharges'])\n",
    "plt.show()\n",
    "\n",
    "plt.figure()\n",
    "sns.boxplot(x=df_load['TotalCharges'])\n",
    "plt.show()"
   ]
  },
  {
   "cell_type": "markdown",
   "id": "ade3ff68",
   "metadata": {},
   "source": [
    "Cara mengatasi adanya Outlier adalah dengan cara mengubah nilai-nilai outliers menjadi nilai maksimum dan minimum IQR"
   ]
  },
  {
   "cell_type": "code",
   "execution_count": 19,
   "id": "0c7a5cab",
   "metadata": {},
   "outputs": [
    {
     "name": "stdout",
     "output_type": "stream",
     "text": [
      "Nilai Maximum dari masing-masing Variable adalah:\n",
      "tenure             124.00000\n",
      "MonthlyCharges     169.93125\n",
      "TotalCharges      8889.13125\n",
      "dtype: float64\n",
      "\n",
      "Nilai Minimum dari masing-masing Variable adalah:\n",
      "tenure             -60.00000\n",
      "MonthlyCharges     -43.61875\n",
      "TotalCharges     -4682.31875\n",
      "dtype: float64\n",
      "\n",
      "Persebaran data setelah ditangani Outlier:\n",
      "            tenure  MonthlyCharges  TotalCharges\n",
      "count  6950.000000     6950.000000   6950.000000\n",
      "mean     32.423165       64.992201   2286.058750\n",
      "std      24.581073       30.032040   2265.702553\n",
      "min       0.000000        0.000000     19.000000\n",
      "25%       9.000000       36.462500    406.975000\n",
      "50%      29.000000       70.450000   1400.850000\n",
      "75%      55.000000       89.850000   3799.837500\n",
      "max     124.000000      169.931250   8889.131250\n"
     ]
    },
    {
     "name": "stderr",
     "output_type": "stream",
     "text": [
      "<ipython-input-19-66f5eef22658>:29: FutureWarning: Automatic reindexing on DataFrame vs Series comparisons is deprecated and will raise ValueError in a future version.  Do `left, right = left.align(right, axis=1, copy=False)` before e.g. `left == right`\n",
      "  more_than=(df_load > maximum)\n",
      "<ipython-input-19-66f5eef22658>:30: FutureWarning: Automatic reindexing on DataFrame vs Series comparisons is deprecated and will raise ValueError in a future version.  Do `left, right = left.align(right, axis=1, copy=False)` before e.g. `left == right`\n",
      "  lower_than=(df_load < minimum)\n"
     ]
    },
    {
     "data": {
      "image/png": "[encoded data removed]",
      "text/plain": [
       "<Figure size 432x288 with 1 Axes>"
      ]
     },
     "metadata": {
      "needs_background": "light"
     },
     "output_type": "display_data"
    }
   ],
   "source": [
    "import pandas as pd\n",
    "df_load = pd.read_csv('dqlab_telco.csv')\n",
    "\n",
    "df_load['valid_id'] = df_load['customerID'].astype(str).str.match(r'(45\\d{9,10})')\n",
    "df_load = (df_load[df_load['valid_id'] == True]).drop('valid_id', axis = 1)\n",
    "df_load.drop_duplicates()\n",
    "df_load = df_load.sort_values('UpdatedAt', ascending=False).drop_duplicates(['customerID'])\n",
    "df_load.dropna(subset=['Churn'],inplace=True)\n",
    "\n",
    "df_load['tenure'].fillna(11, inplace=True)\n",
    "for col_name in list(['MonthlyCharges','TotalCharges']):\n",
    "    median = df_load[col_name].median()\n",
    "    df_load[col_name].fillna(median, inplace=True)\n",
    "\n",
    "# Your code goes here\n",
    "Q1 = (df_load[['tenure','MonthlyCharges','TotalCharges']]).quantile(0.25)\n",
    "Q3= (df_load[['tenure','MonthlyCharges','TotalCharges']]).quantile(0.75)\n",
    "IQR = Q3 - Q1\n",
    "\n",
    "maximum = Q3 + (1.5*IQR)\n",
    "print('Nilai Maximum dari masing-masing Variable adalah:')\n",
    "print(maximum)\n",
    "\n",
    "minimum = Q1 - (1.5*IQR)\n",
    "print('\\nNilai Minimum dari masing-masing Variable adalah:')\n",
    "print(minimum)\n",
    "\n",
    "more_than=(df_load > maximum)\n",
    "lower_than=(df_load < minimum)\n",
    "df_load = df_load.mask(more_than, maximum, axis=1)\n",
    "df_load = df_load.mask(lower_than, minimum, axis=1)\n",
    "print('\\nPersebaran data setelah ditangani Outlier:')\n",
    "print(df_load[['tenure','MonthlyCharges','TotalCharges']].describe())\n",
    "\n",
    "import matplotlib.pyplot as plt\n",
    "import seaborn as sns\n",
    "plt.figure()\n",
    "sns.boxplot(x=df_load['tenure'])\n",
    "plt.show()"
   ]
  },
  {
   "cell_type": "markdown",
   "id": "2f2fd50f",
   "metadata": {},
   "source": [
    "**Conclusion**\n",
    "\n",
    "Dari ketiga boxplot dengan variable 'tenure','MonthlyCharges' & 'TotalCharges' terlihat jelas bahwasannya ada outlier.Hal ini bisa di identifikasi dari adanya titik-titik yang berada jauh dari gambar boxplot-nya.Kemudian kalau kita liat persebaran datanya dari kolom max nya juga ada nilai yang sangat tinggi sekali.Kemudian nilai outlier tersebut ditangani dengan cara merubah nilainya ke nilai maximum & minimum dari interquartile range (IQR). Setelah di tangani outlier-nya, dan dilihat perseberan datanya, terlihat sudah tidak ada lagi nilai yang outlier."
   ]
  },
  {
   "cell_type": "markdown",
   "id": "ae94c7b5",
   "metadata": {},
   "source": [
    "# 4. Mendeteksi Nilai yang tidak Standar\n",
    "Mendeteksi apakah ada nilai-nilai dari variable kategorik yang tidak standard. Hal ini biasanya terjadi dikarenakan kesalahan input data. Perbedaan istilah menjadi salah satu faktor yang sering terjadi, untuk itu dibutuhkan standardisasi dari data yang sudah ter-input."
   ]
  },
  {
   "cell_type": "code",
   "execution_count": 21,
   "id": "e664ed9e",
   "metadata": {
    "scrolled": false
   },
   "outputs": [
    {
     "name": "stderr",
     "output_type": "stream",
     "text": [
      "<ipython-input-21-21402a8e97ee>:22: FutureWarning: Automatic reindexing on DataFrame vs Series comparisons is deprecated and will raise ValueError in a future version.  Do `left, right = left.align(right, axis=1, copy=False)` before e.g. `left == right`\n",
      "  more_than     = (df_load > maximum)\n",
      "<ipython-input-21-21402a8e97ee>:23: FutureWarning: Automatic reindexing on DataFrame vs Series comparisons is deprecated and will raise ValueError in a future version.  Do `left, right = left.align(right, axis=1, copy=False)` before e.g. `left == right`\n",
      "  lower_than    = (df_load < minimum)\n"
     ]
    },
    {
     "name": "stdout",
     "output_type": "stream",
     "text": [
      "\n",
      "Unique Values Count \u001b[1mBefore Standardized \u001b[0mVariable gender\n",
      "Male         3499\n",
      "Female       3431\n",
      "Wanita         14\n",
      "Laki-Laki       6\n",
      "Name: gender, dtype: int64\n",
      "\n",
      "Unique Values Count \u001b[1mBefore Standardized \u001b[0mVariable SeniorCitizen\n",
      "0    5822\n",
      "1    1128\n",
      "Name: SeniorCitizen, dtype: int64\n",
      "\n",
      "Unique Values Count \u001b[1mBefore Standardized \u001b[0mVariable Partner\n",
      "No     3591\n",
      "Yes    3359\n",
      "Name: Partner, dtype: int64\n",
      "\n",
      "Unique Values Count \u001b[1mBefore Standardized \u001b[0mVariable Dependents\n",
      "No     4870\n",
      "Yes    2060\n",
      "Iya      20\n",
      "Name: Dependents, dtype: int64\n",
      "\n",
      "Unique Values Count \u001b[1mBefore Standardized \u001b[0mVariable PhoneService\n",
      "Yes    6281\n",
      "No      669\n",
      "Name: PhoneService, dtype: int64\n",
      "\n",
      "Unique Values Count \u001b[1mBefore Standardized \u001b[0mVariable MultipleLines\n",
      "No                  3346\n",
      "Yes                 2935\n",
      "No phone service     669\n",
      "Name: MultipleLines, dtype: int64\n",
      "\n",
      "Unique Values Count \u001b[1mBefore Standardized \u001b[0mVariable InternetService\n",
      "Fiber optic    3057\n",
      "DSL            2388\n",
      "No             1505\n",
      "Name: InternetService, dtype: int64\n",
      "\n",
      "Unique Values Count \u001b[1mBefore Standardized \u001b[0mVariable OnlineSecurity\n",
      "No                     3454\n",
      "Yes                    1991\n",
      "No internet service    1505\n",
      "Name: OnlineSecurity, dtype: int64\n",
      "\n",
      "Unique Values Count \u001b[1mBefore Standardized \u001b[0mVariable OnlineBackup\n",
      "No                     3045\n",
      "Yes                    2400\n",
      "No internet service    1505\n",
      "Name: OnlineBackup, dtype: int64\n",
      "\n",
      "Unique Values Count \u001b[1mBefore Standardized \u001b[0mVariable DeviceProtection\n",
      "No                     3054\n",
      "Yes                    2391\n",
      "No internet service    1505\n",
      "Name: DeviceProtection, dtype: int64\n",
      "\n",
      "Unique Values Count \u001b[1mBefore Standardized \u001b[0mVariable TechSupport\n",
      "No                     3431\n",
      "Yes                    2014\n",
      "No internet service    1505\n",
      "Name: TechSupport, dtype: int64\n",
      "\n",
      "Unique Values Count \u001b[1mBefore Standardized \u001b[0mVariable StreamingTV\n",
      "No                     2774\n",
      "Yes                    2671\n",
      "No internet service    1505\n",
      "Name: StreamingTV, dtype: int64\n",
      "\n",
      "Unique Values Count \u001b[1mBefore Standardized \u001b[0mVariable StreamingMovies\n",
      "No                     2747\n",
      "Yes                    2698\n",
      "No internet service    1505\n",
      "Name: StreamingMovies, dtype: int64\n",
      "\n",
      "Unique Values Count \u001b[1mBefore Standardized \u001b[0mVariable Contract\n",
      "Month-to-month    3823\n",
      "Two year          1670\n",
      "One year          1457\n",
      "Name: Contract, dtype: int64\n",
      "\n",
      "Unique Values Count \u001b[1mBefore Standardized \u001b[0mVariable PaperlessBilling\n",
      "Yes    4114\n",
      "No     2836\n",
      "Name: PaperlessBilling, dtype: int64\n",
      "\n",
      "Unique Values Count \u001b[1mBefore Standardized \u001b[0mVariable PaymentMethod\n",
      "Electronic check             2337\n",
      "Mailed check                 1594\n",
      "Bank transfer (automatic)    1519\n",
      "Credit card (automatic)      1500\n",
      "Name: PaymentMethod, dtype: int64\n",
      "\n",
      "Unique Values Count \u001b[1mBefore Standardized \u001b[0mVariable Churn\n",
      "No       5114\n",
      "Yes      1827\n",
      "Churn       9\n",
      "Name: Churn, dtype: int64\n"
     ]
    }
   ],
   "source": [
    "#4. Standarisasi Nilai\n",
    "#4a. Cek Nilai yang tidak standard\n",
    "import pandas as pd\n",
    "df_load = pd.read_csv('dqlab_telco.csv')\n",
    "\n",
    "df_load['valid_id'] = df_load['customerID'].astype(str).str.match(r'(45\\d{9,10})')\n",
    "df_load = (df_load[df_load['valid_id'] == True]).drop('valid_id', axis = 1)\n",
    "df_load.drop_duplicates()\n",
    "df_load = df_load.sort_values('UpdatedAt', ascending=False).drop_duplicates(['customerID'])\n",
    "df_load.dropna(subset=['Churn'],inplace=True)\n",
    "\n",
    "df_load['tenure'].fillna(11, inplace=True)\n",
    "for col_name in list(['MonthlyCharges','TotalCharges']):\n",
    "    median = df_load[col_name].median()\n",
    "    df_load[col_name].fillna(median, inplace=True)\n",
    "\n",
    "Q1 = (df_load[['tenure','MonthlyCharges','TotalCharges']]).quantile(0.25)\n",
    "Q3 = (df_load[['tenure','MonthlyCharges','TotalCharges']]).quantile(0.75)\n",
    "IQR = Q3 - Q1\n",
    "maximum  = Q3 + (1.5*IQR)\n",
    "minimum = Q1 - (1.5*IQR)\n",
    "\n",
    "more_than     = (df_load > maximum)\n",
    "lower_than    = (df_load < minimum)\n",
    "df_load       = df_load.mask(more_than, maximum, axis=1) \n",
    "df_load       = df_load.mask(lower_than, minimum, axis=1)\n",
    "\n",
    "#Loop\n",
    "for col_name in list(['gender','SeniorCitizen','Partner','Dependents','PhoneService','MultipleLines','InternetService','OnlineSecurity','OnlineBackup','DeviceProtection','TechSupport','StreamingTV','StreamingMovies','Contract','PaperlessBilling','PaymentMethod','Churn']):\n",
    "\t\t\t\t\t\t print('\\nUnique Values Count \\033[1m' + 'Before Standardized \\033[0mVariable',col_name)\n",
    "\t\t\t\t\t\t print(df_load[col_name].value_counts())\n",
    " "
   ]
  },
  {
   "cell_type": "markdown",
   "id": "f4beaeb9",
   "metadata": {},
   "source": [
    "Menstandarisasi data category"
   ]
  },
  {
   "cell_type": "code",
   "execution_count": 22,
   "id": "da672a23",
   "metadata": {
    "scrolled": true
   },
   "outputs": [
    {
     "name": "stdout",
     "output_type": "stream",
     "text": [
      "\n",
      "Unique Values Count \u001b[1mAfter Standardized\u001b[0mVariable gender\n",
      "Male      3505\n",
      "Female    3445\n",
      "Name: gender, dtype: int64\n",
      "\n",
      "Unique Values Count \u001b[1mAfter Standardized\u001b[0mVariable Dependents\n",
      "No     4870\n",
      "Yes    2080\n",
      "Name: Dependents, dtype: int64\n",
      "\n",
      "Unique Values Count \u001b[1mAfter Standardized\u001b[0mVariable Churn\n",
      "No     5114\n",
      "Yes    1836\n",
      "Name: Churn, dtype: int64\n"
     ]
    },
    {
     "name": "stderr",
     "output_type": "stream",
     "text": [
      "<ipython-input-22-114c3731555b>:22: FutureWarning: Automatic reindexing on DataFrame vs Series comparisons is deprecated and will raise ValueError in a future version.  Do `left, right = left.align(right, axis=1, copy=False)` before e.g. `left == right`\n",
      "  more_than     = (df_load > maximum)\n",
      "<ipython-input-22-114c3731555b>:23: FutureWarning: Automatic reindexing on DataFrame vs Series comparisons is deprecated and will raise ValueError in a future version.  Do `left, right = left.align(right, axis=1, copy=False)` before e.g. `left == right`\n",
      "  lower_than    = (df_load < minimum)\n"
     ]
    }
   ],
   "source": [
    "import pandas as pd\n",
    "df_load = pd.read_csv('dqlab_telco.csv')\n",
    "\n",
    "df_load['valid_id'] = df_load['customerID'].astype(str).str.match(r'(45\\d{9,10})')\n",
    "df_load = (df_load[df_load['valid_id'] == True]).drop('valid_id', axis = 1)\n",
    "df_load.drop_duplicates()\n",
    "df_load = df_load.sort_values('UpdatedAt', ascending=False).drop_duplicates(['customerID'])\n",
    "df_load.dropna(subset=['Churn'],inplace=True)\n",
    "\n",
    "df_load['tenure'].fillna(11, inplace=True)\n",
    "for col_name in list(['MonthlyCharges','TotalCharges']):\n",
    "    median = df_load[col_name].median()\n",
    "    df_load[col_name].fillna(median, inplace=True)\n",
    "\n",
    "Q1 = (df_load[['tenure','MonthlyCharges','TotalCharges']]).quantile(0.25)\n",
    "Q3 = (df_load[['tenure','MonthlyCharges','TotalCharges']]).quantile(0.75)\n",
    "IQR = Q3 - Q1\n",
    "maximum  = Q3 + (1.5*IQR)\n",
    "minimum = Q1 - (1.5*IQR)\n",
    "\n",
    "more_than     = (df_load > maximum)\n",
    "lower_than    = (df_load < minimum)\n",
    "df_load       = df_load.mask(more_than, maximum, axis=1) \n",
    "df_load       = df_load.mask(lower_than, minimum, axis=1)\n",
    "\n",
    "df_load = df_load.replace(['Wanita','Laki-Laki','Churn','Iya'],['Female','Male','Yes','Yes'])\n",
    "\n",
    "#Loop\n",
    "for col_name in list(['gender','Dependents','Churn']):\n",
    "\tprint('\\nUnique Values Count \\033[1m' + 'After Standardized\\033[0mVariable', col_name)\n",
    "\tprint(df_load[col_name].value_counts())"
   ]
  },
  {
   "cell_type": "markdown",
   "id": "cad7ffce",
   "metadata": {},
   "source": [
    "**Conclusion**\n",
    "\n",
    "Ketika kita amati lebih jauh dari jumlah unique value dari masing-masing variable kategorik, terlihat jelas bahwa ada beberapa variable yang tidak standar. Variable itu adalah:\n",
    "Gender (Female, Male, Wanita, Laki-Laki), yang bisa di standardkan nilainya menjadi (Female, Male) karena mempunyai makna yang sama.\n",
    "Dependents (Yes, No, Iya), yang bisa di standardkan nilainya menjadi (Yes, No) karena mempunyai makna yang sama.\n",
    "Churn (Yes, No, Churn), yang bisa di standardkan nilainya menjadi (Yes, No) karena mempunyai makna yang sama.\n",
    "Setelah kita standardkan nilainya, dan kita amati kembali bentuk datanya, sudah terstandar dengan baik untuk unique value-nya."
   ]
  },
  {
   "cell_type": "code",
   "execution_count": null,
   "id": "b9bdf30e",
   "metadata": {},
   "outputs": [],
   "source": []
  }
 ],
 "metadata": {
  "kernelspec": {
   "display_name": "Python 3",
   "language": "python",
   "name": "python3"
  },
  "language_info": {
   "codemirror_mode": {
    "name": "ipython",
    "version": 3
   },
   "file_extension": ".py",
   "mimetype": "text/x-python",
   "name": "python",
   "nbconvert_exporter": "python",
   "pygments_lexer": "ipython3",
   "version": "3.8.8"
  }
 },
 "nbformat": 4,
 "nbformat_minor": 5
}
